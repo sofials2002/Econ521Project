{
 "cells": [
  {
   "cell_type": "markdown",
   "metadata": {},
   "source": [
    "## Code to extract historical Amazon data from Keepa using an API "
   ]
  },
  {
   "cell_type": "code",
   "execution_count": null,
   "metadata": {},
   "outputs": [],
   "source": [
    "pip install keepa"
   ]
  },
  {
   "cell_type": "code",
   "execution_count": 2,
   "metadata": {},
   "outputs": [],
   "source": [
    "#Convert keepa time to unix time\n",
    "def keepaTimeMinutesToUnixTime(keepaMinutes):\n",
    "    return (21564000 + keepaMinutes) * 60000;"
   ]
  },
  {
   "cell_type": "code",
   "execution_count": 11,
   "metadata": {},
   "outputs": [
    {
     "name": "stdout",
     "output_type": "stream",
     "text": [
      "Tokens Left: 59\n",
      "B003UKM9CO | Oral-B Pro 1000 Rechargeable Electric Toothbrush, White\n",
      "           date  price        asin market\n",
      "0    2015-07-26  34.00  B003UKM9CO     us\n",
      "1    2015-07-27  34.00  B003UKM9CO     us\n",
      "2    2015-07-28  34.00  B003UKM9CO     us\n",
      "3    2015-07-29  34.00  B003UKM9CO     us\n",
      "4    2015-07-30  34.00  B003UKM9CO     us\n",
      "...         ...    ...         ...    ...\n",
      "3415 2024-11-30  39.94  B003UKM9CO     us\n",
      "3416 2024-12-01  38.76  B003UKM9CO     us\n",
      "3417 2024-12-02  39.94  B003UKM9CO     us\n",
      "3418 2024-12-03  39.94  B003UKM9CO     us\n",
      "3419 2024-12-04  39.80  B003UKM9CO     us\n",
      "\n",
      "[3420 rows x 4 columns]\n"
     ]
    }
   ],
   "source": [
    "#import necessary libraries\n",
    "from datetime import datetime, timedelta\n",
    "import keepa, json\n",
    "import pandas as pd\n",
    "\n",
    "#We need API Key from Keepa\n",
    "KEEPA_API_KEY = \"atbrg0mqdcl26i3dt5453hng6h82e66i9j730vc7d1bs1timtshn448ns6uslh5l\"\n",
    "\n",
    "#Define api object\n",
    "api = keepa.Keepa(KEEPA_API_KEY)\n",
    "\n",
    "#Get how many tokens we have\n",
    "print('Tokens Left:', api.tokens_left)\n",
    "# If you'll receive an answer like this\n",
    "# Tokens Left: 300\n",
    "# ... key is correct and API is working\n",
    "\n",
    "#Define our asins list\n",
    "asins_list = ['B003UKM9CO']\n",
    "\n",
    "#Call product info with prices from Keepa\n",
    "products = api.query(\n",
    "      asins_list,\n",
    "      progress_bar = False\n",
    ")\n",
    "\n",
    "\n",
    "#Define result frame with all data\n",
    "df_result = pd.DataFrame()\n",
    "\n",
    "#Iterate through all products in the result\n",
    "for product in products:\n",
    "\n",
    "     # Just show info about product\n",
    "     print(f\"{product['asin']} | {product['title']}\")\n",
    "\n",
    "     # Get prices info\n",
    "     csv = product['csv']\n",
    "     prices_data = csv[1]\n",
    "\n",
    "     #Transform the prices data into a list\n",
    "     transformed_prices = [(datetime.utcfromtimestamp(keepaTimeMinutesToUnixTime(keepaMinutes) / 1000), val/100 if val>100 else val) for\n",
    "                           keepaMinutes, val in zip(prices_data[::2], prices_data[1::2])]\n",
    "\n",
    "     # Create dataframe with prices from transformed_prices\n",
    "     df_prices = pd.DataFrame(transformed_prices, columns=['date', 'price'])\n",
    "     df_prices.set_index('date', inplace=True)\n",
    "\n",
    "     # Resample dataframe by days and forward fill to handle NaN values\n",
    "     df_prices = df_prices.resample('D').apply(lambda x: x[x > -1].mean()).ffill()\n",
    "\n",
    "     # Extend the DataFrame to include all days up to the current day\n",
    "     if not df_prices.empty:\n",
    "          last_date = df_prices.last_valid_index()\n",
    "          current_date = pd.to_datetime(\"today\").normalize()  # Normalize the time to 00:00:00\n",
    "          new_index = pd.date_range(start=df_prices.index.min(), end=current_date, freq='D')\n",
    "          df_prices = df_prices.reindex(new_index, method='ffill')  # Reindex and fill all missing days\n",
    "\n",
    "     #Add columns about asin and market\n",
    "     df_prices['asin'] = product['asin']\n",
    "     df_prices['market'] = 'us' #need, if we want to have multiple market products in one dataframe\n",
    "     df_prices = df_prices.rename_axis('date').reset_index() #we need to move date from index\n",
    "\n",
    "     #Concat df_prices to one frame\n",
    "     df_result = pd.concat([df_result, df_prices], ignore_index=True)\n",
    "\n",
    "#Show result frame\n",
    "print(df_result)\n",
    "\n",
    "#Save result frame to csv\n",
    "file_path = '/Users/sofialozano/Library/CloudStorage/OneDrive-EmoryUniversity/EMORY FALL 2024/ECON 521 POLICY CAUSAL INFERENCE/Final Project 521/521 Prices Amazon keepa/NEW_toothbrush_amazon_asins.csv'\n",
    "df_result.to_csv(file_path)"
   ]
  }
 ],
 "metadata": {
  "kernelspec": {
   "display_name": "base",
   "language": "python",
   "name": "python3"
  },
  "language_info": {
   "codemirror_mode": {
    "name": "ipython",
    "version": 3
   },
   "file_extension": ".py",
   "mimetype": "text/x-python",
   "name": "python",
   "nbconvert_exporter": "python",
   "pygments_lexer": "ipython3",
   "version": "3.9.13"
  }
 },
 "nbformat": 4,
 "nbformat_minor": 2
}
